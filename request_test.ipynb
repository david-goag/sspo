{
 "cells": [
  {
   "cell_type": "code",
   "execution_count": 37,
   "id": "7b0da820",
   "metadata": {},
   "outputs": [],
   "source": [
    "# pip install stravalib"
   ]
  },
  {
   "cell_type": "code",
   "execution_count": 18,
   "id": "f224f1b9",
   "metadata": {},
   "outputs": [
    {
     "ename": "KeyError",
     "evalue": "'ATHLETE_ID_1'",
     "output_type": "error",
     "traceback": [
      "\u001b[31m---------------------------------------------------------------------------\u001b[39m",
      "\u001b[31mKeyError\u001b[39m                                  Traceback (most recent call last)",
      "\u001b[36mCell\u001b[39m\u001b[36m \u001b[39m\u001b[32mIn[18]\u001b[39m\u001b[32m, line 4\u001b[39m\n\u001b[32m      2\u001b[39m ACCESS_TOKEN = os.environ[\u001b[33m\"\u001b[39m\u001b[33mACCESS_TOKEN\u001b[39m\u001b[33m\"\u001b[39m]\n\u001b[32m      3\u001b[39m SEGMENT_ID_1 = os.environ[\u001b[33m\"\u001b[39m\u001b[33mSEGMENT_ID_1\u001b[39m\u001b[33m\"\u001b[39m]\n\u001b[32m----> \u001b[39m\u001b[32m4\u001b[39m ATHLETE_ID_1 = \u001b[43mos\u001b[49m\u001b[43m.\u001b[49m\u001b[43menviron\u001b[49m\u001b[43m[\u001b[49m\u001b[33;43m\"\u001b[39;49m\u001b[33;43mATHLETE_ID_1\u001b[39;49m\u001b[33;43m\"\u001b[39;49m\u001b[43m]\u001b[49m\n",
      "\u001b[36mFile \u001b[39m\u001b[32m<frozen os>:714\u001b[39m, in \u001b[36m__getitem__\u001b[39m\u001b[34m(self, key)\u001b[39m\n",
      "\u001b[31mKeyError\u001b[39m: 'ATHLETE_ID_1'"
     ]
    }
   ],
   "source": [
    "import os\n",
    "ACCESS_TOKEN = os.environ[\"ACCESS_TOKEN\"]\n",
    "SEGMENT_ID_1 = os.environ[\"SEGMENT_ID_1\"]\n",
    "ATHLETE_ID_1 = os.environ[\"ATHLETE_ID_1\"]"
   ]
  },
  {
   "cell_type": "code",
   "execution_count": 2,
   "id": "aaf20364",
   "metadata": {},
   "outputs": [
    {
     "data": {
      "text/plain": [
       "'d5884186d6c8b3286aa4975403aab00cc91c97b0'"
      ]
     },
     "execution_count": 2,
     "metadata": {},
     "output_type": "execute_result"
    }
   ],
   "source": [
    "ACCESS_TOKEN"
   ]
  },
  {
   "cell_type": "code",
   "execution_count": 100,
   "id": "9207890c",
   "metadata": {},
   "outputs": [
    {
     "name": "stderr",
     "output_type": "stream",
     "text": [
      "WARNING:root:Please make sure your STRAVA_CLIENT_ID is set in your environment.Add SILENCE_TOKEN_WARNINGS=true to your environment to disable this error.\n",
      "WARNING:root:STRAVA_CLIENT_ID and STRAVA_CLIENT_SECRET not found in your  environment. Please refresh your access_token manually. Or add STRAVA_CLIENT_ID and STRAVA_CLIENT_SECRET to your environment.Add SILENCE_TOKEN_WARNINGS=true to your environment to silence this warning.\n"
     ]
    }
   ],
   "source": [
    "from stravalib import Client\n",
    "\n",
    "client = Client(access_token=ACCESS_TOKEN)"
   ]
  },
  {
   "cell_type": "code",
   "execution_count": 56,
   "id": "5294d57a",
   "metadata": {},
   "outputs": [
    {
     "name": "stdout",
     "output_type": "stream",
     "text": [
      "bound_client=<stravalib.client.Client object at 0x788e274b36b0> activity_type=RelaxedActivityType(root='Ride') athlete_pr_effort=None athlete_segment_stats=AthleteSegmentStats(activity_id=10821196055, distance=None, elapsed_time=None, id=None, is_kom=None, start_date=None, start_date_local=None, effort_count=19, pr_date=datetime.date(2024, 2, 23)) average_grade=5.6 city='Montcada I Reixac' climb_category=2 country='Spain' distance=3792.46 elevation_high=243.4 elevation_low=31.8 end_latlng=LatLon(root=[41.48034632205963, 2.2228914499282837]) id=3319285 maximum_grade=26.7 name='Vallensana corregida' private=False start_latlng=LatLon(root=[41.479447446763515, 2.192293480038643]) state='Catalonia' athlete_count=22157 created_at=datetime.datetime(2013, 1, 25, 16, 52, 34, tzinfo=TzInfo(UTC)) effort_count=294890 hazardous=False map=Map(id='s3319285', polyline='omd|FydkLJCRQPg@NU~AmAZe@J_@`@}ERo@^o@LWBk@C[IYoAwBQc@KWC[BMDKHEXC`@HPENKZc@N]VkABWCm@Oq@M[MMi@]QOMYCOD_@f@eA@k@Me@W_@k@m@gAoAe@c@_@S{@Y[WMSm@aBs@wA?k@Le@@[EmDE]M]IKWOcAWi@QsAu@i@a@QUEKG[Eg@PiAh@oCBg@C[SiA}@_C[yAu@yDq@}C[sAu@oC_@sBA]B]JWl@w@H]AUw@eCw@qAk@iBOWo@s@KWAMFUd@YFIF_@DyBAk@Ek@WuAOe@_@o@e@a@m@YQ]CQ?SDQRULEp@AnBMf@Ib@QPMPOLWF[?OG_@g@yAOm@y@mBcAuAUQ{@c@QUI]C]DWHQX[NGhAIf@MZ?NDf@`@b@VnAd@dATr@DRAPKJUHYF[RiCNa@HIRGn@BTB^EZ]d@sA', summary_polyline=None) star_count=454 total_elevation_gain=274.899 updated_at=datetime.datetime(2021, 5, 20, 8, 2, 24, tzinfo=TzInfo(UTC)) start_latitude=None end_latitude=None start_longitude=None end_longitude=None starred=True pr_time=None starred_date=None elevation_profile='https://d3o5xota0a1fcr.cloudfront.net/v6/charts/BRS74TTKXD734PZJ3E4KJDORGZ4IUYZWXSLRUSSUSBFUWCNEJQN6GC4FJX2QATFDEBQLYS4FKQJFA6VRK7H5DU67'\n"
     ]
    }
   ],
   "source": [
    "segment = client.get_segment(SEGMENT_ID_1)\n",
    "print(segment)"
   ]
  },
  {
   "cell_type": "code",
   "execution_count": 57,
   "id": "c86a23dc",
   "metadata": {},
   "outputs": [
    {
     "data": {
      "text/plain": [
       "3792.46"
      ]
     },
     "execution_count": 57,
     "metadata": {},
     "output_type": "execute_result"
    }
   ],
   "source": [
    "segment.distance"
   ]
  },
  {
   "cell_type": "code",
   "execution_count": 12,
   "id": "ce1eb088",
   "metadata": {},
   "outputs": [
    {
     "data": {
      "text/plain": [
       "SegmentEffort(activity_id=None, distance=3792.46, elapsed_time=759, id=3196152382984825790, is_kom=None, start_date=datetime.datetime(2024, 2, 23, 15, 30, 6, tzinfo=TzInfo(UTC)), start_date_local=datetime.datetime(2024, 2, 23, 16, 30, 6), activity=MetaActivity(bound_client=None, id=10821196055), athlete=MetaAthlete(bound_client=None, id=10475048, resource_state=2), average_cadence=96.4, average_heartrate=168.2, average_watts=281.3, device_watts=True, end_index=1824, hidden=None, kom_rank=None, max_heartrate=174.0, moving_time=759, name='Vallensana corregida', pr_rank=1, segment=SummarySegment(bound_client=None, activity_type=RelaxedActivityType(root='Ride'), athlete_pr_effort=None, athlete_segment_stats=None, average_grade=5.6, city='Montcada I Reixac', climb_category=2, country='Spain', distance=3792.46, elevation_high=243.4, elevation_low=31.8, end_latlng=LatLon(root=[41.48034632205963, 2.2228914499282837]), id=3319285, maximum_grade=26.7, name='Vallensana corregida', private=False, start_latlng=LatLon(root=[41.479447446763515, 2.192293480038643]), state='Catalonia'), start_index=1065, achievements=[SegmentEffortAchievement(rank=1, type='pr', type_id=3, effort_count=None)])"
      ]
     },
     "execution_count": 12,
     "metadata": {},
     "output_type": "execute_result"
    }
   ],
   "source": [
    "effort = client.get_segment_effort(3196152382984825790)\n",
    "effort"
   ]
  },
  {
   "cell_type": "code",
   "execution_count": 14,
   "id": "a8e99f7b",
   "metadata": {},
   "outputs": [
    {
     "data": {
      "text/plain": [
       "float"
      ]
     },
     "execution_count": 14,
     "metadata": {},
     "output_type": "execute_result"
    }
   ],
   "source": [
    "type(effort.average_watts)"
   ]
  },
  {
   "cell_type": "code",
   "execution_count": 31,
   "id": "ed72bf1b",
   "metadata": {},
   "outputs": [
    {
     "data": {
      "text/plain": [
       "DetailedAthlete(bound_client=<stravalib.client.Client object at 0x788e274b36b0>, id=10475048, city='Burgos', country='España', created_at=datetime.datetime(2015, 7, 26, 19, 23, 27, tzinfo=TzInfo(UTC)), firstname='David', lastname='Gómez Aguilar', premium=True, profile='https://dgalywyr863hv.cloudfront.net/pictures/athletes/10475048/4146145/3/large.jpg', profile_medium='https://dgalywyr863hv.cloudfront.net/pictures/athletes/10475048/4146145/3/medium.jpg', resource_state=2, sex='M', state='Castilla y León', summit=True, updated_at=datetime.datetime(2025, 8, 12, 7, 11, 17, tzinfo=TzInfo(UTC)), bikes=None, clubs=None, follower_count=None, friend_count=None, ftp=None, measurement_preference=None, shoes=None, weight=77.3, athlete_type=None, friend=None, follower=None, approve_followers=None, badge_type_id=1, mutual_friend_count=None, date_preference=None, email=None, super_user=None, email_language=None, max_heartrate=None, username='dgmezaguilar', description=None, instagram_username=None, offer_in_app_payment=None, global_privacy=None, receive_newsletter=None, email_kom_lost=None, dateofbirth=None, facebook_sharing_enabled=None, profile_original=None, premium_expiration_date=None, email_send_follower_notices=None, plan=None, agreed_to_terms=None, follower_request_count=None, email_facebook_twitter_friend_joins=None, receive_kudos_emails=None, receive_follower_feed_emails=None, receive_comment_emails=None, sample_race_distance=None, sample_race_time=None, membership=None, admin=None, owner=None, subscription_permissions=None)"
      ]
     },
     "execution_count": 31,
     "metadata": {},
     "output_type": "execute_result"
    }
   ],
   "source": [
    "athlete = client.get_athlete()\n",
    "athlete"
   ]
  },
  {
   "cell_type": "code",
   "execution_count": null,
   "id": "33737b64",
   "metadata": {},
   "outputs": [
    {
     "data": {
      "text/plain": [
       "281.3"
      ]
     },
     "execution_count": 35,
     "metadata": {},
     "output_type": "execute_result"
    }
   ],
   "source": [
    "effort.elapsed_time\n",
    "effort.segment.distance\n",
    "effort.segment.average_grade\n",
    "effort.segment.maximum_grade\n",
    "effort.segment.__dict__\n",
    "segment.total_elevation_gain\n",
    "athlete.weight\n",
    "#segment.start_latitude\n",
    "#segment.start_longitude\n",
    "segment.start_latlng\n",
    "effort.start_date_local\n",
    "effort.average_watts"
   ]
  },
  {
   "cell_type": "code",
   "execution_count": 63,
   "id": "381661e2",
   "metadata": {},
   "outputs": [
    {
     "data": {
      "text/plain": [
       "41.479447446763515"
      ]
     },
     "execution_count": 63,
     "metadata": {},
     "output_type": "execute_result"
    }
   ],
   "source": [
    "segment.start_latlng.root[0]"
   ]
  },
  {
   "cell_type": "code",
   "execution_count": 43,
   "id": "665a23f8",
   "metadata": {},
   "outputs": [
    {
     "data": {
      "text/plain": [
       "'2024-2-23'"
      ]
     },
     "execution_count": 43,
     "metadata": {},
     "output_type": "execute_result"
    }
   ],
   "source": [
    "effort.start_date_local.year\n",
    "f\"{effort.start_date_local.year}-{effort.start_date_local.month}-{effort.start_date_local.day}\""
   ]
  },
  {
   "cell_type": "code",
   "execution_count": 47,
   "id": "86b19a75",
   "metadata": {},
   "outputs": [
    {
     "data": {
      "text/plain": [
       "'02'"
      ]
     },
     "execution_count": 47,
     "metadata": {},
     "output_type": "execute_result"
    }
   ],
   "source": [
    "f\"{effort.start_date_local.month:02d}\""
   ]
  },
  {
   "cell_type": "code",
   "execution_count": 36,
   "id": "357bcdcd",
   "metadata": {},
   "outputs": [],
   "source": [
    "#pip install openmeteo-requests\n",
    "#pip install requests-cache retry-requests numpy pandas"
   ]
  },
  {
   "cell_type": "code",
   "execution_count": 66,
   "id": "b2c76da6",
   "metadata": {},
   "outputs": [
    {
     "name": "stdout",
     "output_type": "stream",
     "text": [
      "Coordinates: 41.51142120361328°N 2.20461106300354°E\n",
      "Elevation: 31.0 m asl\n",
      "Timezone: b'Europe/Madrid'b'GMT+2'\n",
      "Timezone difference to GMT+0: 7200s\n",
      "\n",
      "Hourly data\n",
      "                         date  temperature_2m  wind_speed_10m  \\\n",
      "0  2024-02-22 22:00:00+00:00       11.297000        4.394360   \n",
      "1  2024-02-22 23:00:00+00:00       12.447000       10.315115   \n",
      "2  2024-02-23 00:00:00+00:00       12.297000        9.693295   \n",
      "3  2024-02-23 01:00:00+00:00       11.646999        2.414953   \n",
      "4  2024-02-23 02:00:00+00:00       11.247000        7.491114   \n",
      "5  2024-02-23 03:00:00+00:00       11.097000       13.004921   \n",
      "6  2024-02-23 04:00:00+00:00       10.347000       15.281989   \n",
      "7  2024-02-23 05:00:00+00:00        9.747000       13.324863   \n",
      "8  2024-02-23 06:00:00+00:00        8.547000       10.086427   \n",
      "9  2024-02-23 07:00:00+00:00        8.047000        5.634891   \n",
      "10 2024-02-23 08:00:00+00:00        9.447000       12.904882   \n",
      "11 2024-02-23 09:00:00+00:00        9.947000       17.698677   \n",
      "12 2024-02-23 10:00:00+00:00       10.947000       13.358861   \n",
      "13 2024-02-23 11:00:00+00:00       13.297000       12.904882   \n",
      "14 2024-02-23 12:00:00+00:00       14.396999       18.057508   \n",
      "15 2024-02-23 13:00:00+00:00       14.896999       26.042212   \n",
      "16 2024-02-23 14:00:00+00:00       15.097000       27.475807   \n",
      "17 2024-02-23 15:00:00+00:00       14.997000       27.475807   \n",
      "18 2024-02-23 16:00:00+00:00       14.497000       26.341572   \n",
      "19 2024-02-23 17:00:00+00:00       13.347000       19.852295   \n",
      "20 2024-02-23 18:00:00+00:00       12.097000       18.751125   \n",
      "21 2024-02-23 19:00:00+00:00       11.247000       14.764389   \n",
      "22 2024-02-23 20:00:00+00:00        8.797000        6.162207   \n",
      "23 2024-02-23 21:00:00+00:00        6.847000        7.235910   \n",
      "\n",
      "    wind_direction_10m  \n",
      "0            34.992100  \n",
      "1            60.751270  \n",
      "2           105.068542  \n",
      "3           243.435013  \n",
      "4           215.217682  \n",
      "5           175.236450  \n",
      "6           164.981583  \n",
      "7           141.581909  \n",
      "8           124.824562  \n",
      "9           153.435013  \n",
      "10          157.011261  \n",
      "11          175.333221  \n",
      "12          194.036270  \n",
      "13          247.011261  \n",
      "14          274.573822  \n",
      "15          275.552887  \n",
      "16          275.262299  \n",
      "17          275.262299  \n",
      "18          273.918182  \n",
      "19          265.840424  \n",
      "20          266.698212  \n",
      "21          268.602844  \n",
      "22          263.290253  \n",
      "23          275.710510  \n"
     ]
    }
   ],
   "source": [
    "import openmeteo_requests\n",
    "\n",
    "import pandas as pd\n",
    "import requests_cache\n",
    "from retry_requests import retry\n",
    "\n",
    "# Setup the Open-Meteo API client with cache and retry on error\n",
    "cache_session = requests_cache.CachedSession('.cache', expire_after = -1)\n",
    "retry_session = retry(cache_session, retries = 5, backoff_factor = 0.2)\n",
    "openmeteo = openmeteo_requests.Client(session = retry_session)\n",
    "\n",
    "# Make sure all required weather variables are listed here\n",
    "# The order of variables in hourly or daily is important to assign them correctly below\n",
    "url = \"https://archive-api.open-meteo.com/v1/archive\"\n",
    "params = {\n",
    "\t\"latitude\": segment.start_latlng.root[0], #52.52,\n",
    "\t\"longitude\": segment.start_latlng.root[1], #13.41,\n",
    "\t\"start_date\": f\"{effort.start_date_local.year}-{effort.start_date_local.month:02d}-{effort.start_date_local.day:02d}\", #\"2025-08-09\",\n",
    "\t\"end_date\": f\"{effort.start_date_local.year}-{effort.start_date_local.month:02d}-{effort.start_date_local.day:02d}\", #\"2025-08-23\",\n",
    "\t\"hourly\": [\"temperature_2m\", \"wind_speed_10m\", \"wind_direction_10m\"],\n",
    "\t\"timezone\": \"auto\",\n",
    "}\n",
    "responses = openmeteo.weather_api(url, params=params)\n",
    "\n",
    "# Process first location. Add a for-loop for multiple locations or weather models\n",
    "response = responses[0]\n",
    "print(f\"Coordinates: {response.Latitude()}°N {response.Longitude()}°E\")\n",
    "print(f\"Elevation: {response.Elevation()} m asl\")\n",
    "print(f\"Timezone: {response.Timezone()}{response.TimezoneAbbreviation()}\")\n",
    "print(f\"Timezone difference to GMT+0: {response.UtcOffsetSeconds()}s\")\n",
    "\n",
    "# Process hourly data. The order of variables needs to be the same as requested.\n",
    "hourly = response.Hourly()\n",
    "hourly_temperature_2m = hourly.Variables(0).ValuesAsNumpy()\n",
    "hourly_wind_speed_10m = hourly.Variables(1).ValuesAsNumpy()\n",
    "hourly_wind_direction_10m = hourly.Variables(2).ValuesAsNumpy()\n",
    "\n",
    "hourly_data = {\"date\": pd.date_range(\n",
    "\tstart = pd.to_datetime(hourly.Time(), unit = \"s\", utc = True),\n",
    "\tend = pd.to_datetime(hourly.TimeEnd(), unit = \"s\", utc = True),\n",
    "\tfreq = pd.Timedelta(seconds = hourly.Interval()),\n",
    "\tinclusive = \"left\"\n",
    ")}\n",
    "\n",
    "hourly_data[\"temperature_2m\"] = hourly_temperature_2m\n",
    "hourly_data[\"wind_speed_10m\"] = hourly_wind_speed_10m\n",
    "hourly_data[\"wind_direction_10m\"] = hourly_wind_direction_10m\n",
    "\n",
    "hourly_dataframe = pd.DataFrame(data = hourly_data)\n",
    "print(\"\\nHourly data\\n\", hourly_dataframe)"
   ]
  },
  {
   "cell_type": "code",
   "execution_count": 132,
   "id": "c8ab0bc3",
   "metadata": {},
   "outputs": [
    {
     "data": {
      "text/plain": [
       "<openmeteo_requests.Client.Client at 0x788e0d4fdbb0>"
      ]
     },
     "execution_count": 132,
     "metadata": {},
     "output_type": "execute_result"
    }
   ],
   "source": [
    "openmeteo_requests.Client()"
   ]
  },
  {
   "cell_type": "code",
   "execution_count": 69,
   "id": "13eb5717",
   "metadata": {},
   "outputs": [
    {
     "data": {
      "text/plain": [
       "date                  2024-02-23 14:00:00+00:00\n",
       "temperature_2m                           15.097\n",
       "wind_speed_10m                        27.475807\n",
       "wind_direction_10m                   275.262299\n",
       "Name: 16, dtype: object"
      ]
     },
     "execution_count": 69,
     "metadata": {},
     "output_type": "execute_result"
    }
   ],
   "source": [
    "hourly_dataframe.iloc[effort.start_date_local.hour]"
   ]
  },
  {
   "cell_type": "code",
   "execution_count": 74,
   "id": "f380bd21",
   "metadata": {},
   "outputs": [
    {
     "data": {
      "text/plain": [
       "np.float32(27.475807)"
      ]
     },
     "execution_count": 74,
     "metadata": {},
     "output_type": "execute_result"
    }
   ],
   "source": [
    "hourly_wind_speed_10m[effort.start_date_local.hour]"
   ]
  },
  {
   "cell_type": "code",
   "execution_count": 84,
   "id": "7c936840",
   "metadata": {},
   "outputs": [
    {
     "data": {
      "text/plain": [
       "27.475807189941406"
      ]
     },
     "execution_count": 84,
     "metadata": {},
     "output_type": "execute_result"
    }
   ],
   "source": [
    "hourly.Variables(1).Values(effort.start_date_local.hour)"
   ]
  },
  {
   "cell_type": "code",
   "execution_count": 94,
   "id": "6e5abdd0",
   "metadata": {},
   "outputs": [],
   "source": [
    "import numpy as np"
   ]
  },
  {
   "cell_type": "code",
   "execution_count": 122,
   "id": "f1e0af23",
   "metadata": {},
   "outputs": [],
   "source": [
    "effort_dict = {'athlete_weight': [athlete.weight],\n",
    " 'distance': [segment.distance],\n",
    " 'avg_grade': [segment.average_grade],\n",
    " 'max_grade': [segment.maximum_grade],\n",
    " 'elevation_gain': [segment.total_elevation_gain],\n",
    " 'avg_power': [effort.average_watts],\n",
    " 'temperature': [hourly.Variables(0).Values(effort.start_date_local.hour)],\n",
    " 'wind_speed': [hourly.Variables(1).Values(effort.start_date_local.hour)],\n",
    " 'wind_direction': [hourly.Variables(2).Values(effort.start_date_local.hour)],\n",
    " 'time': [effort.moving_time]}"
   ]
  },
  {
   "cell_type": "code",
   "execution_count": null,
   "id": "2c0b1afb",
   "metadata": {},
   "outputs": [],
   "source": []
  },
  {
   "cell_type": "code",
   "execution_count": 127,
   "id": "fba564d3",
   "metadata": {},
   "outputs": [],
   "source": [
    "effort_dtypes = {'athlete_weight': np.int8,\n",
    " 'distance': np.int32,\n",
    " 'avg_grade': np.float16,\n",
    " 'max_grade': np.float16,\n",
    " 'elevation_gain': np.int16,\n",
    " 'avg_power': np.int16,\n",
    " 'temperature': np.int8,\n",
    " 'wind_speed': np.int8,\n",
    " 'wind_direction': np.int16,\n",
    " 'time': np.int16}"
   ]
  },
  {
   "cell_type": "code",
   "execution_count": 111,
   "id": "8aed350f",
   "metadata": {},
   "outputs": [],
   "source": [
    "effort_data = [athlete.weight,\n",
    "               segment.distance,\n",
    "               segment.average_grade,\n",
    "               segment.maximum_grade,\n",
    "               segment.total_elevation_gain,\n",
    "               effort.average_watts,\n",
    "               hourly.Variables(0).Values(effort.start_date_local.hour),\n",
    "               hourly.Variables(1).Values(effort.start_date_local.hour),\n",
    "               hourly.Variables(2).Values(effort.start_date_local.hour),\n",
    "               effort.moving_time]"
   ]
  },
  {
   "cell_type": "code",
   "execution_count": 121,
   "id": "8216ca5c",
   "metadata": {},
   "outputs": [
    {
     "data": {
      "text/plain": [
       "array([  77.3       , 3792.46      ,    5.6       ,   26.7       ,\n",
       "        274.899     ,  281.3       ,   15.09700012,   27.47580719,\n",
       "        275.26229858,  759.        ])"
      ]
     },
     "execution_count": 121,
     "metadata": {},
     "output_type": "execute_result"
    }
   ],
   "source": [
    "effort_data_np = np.array([athlete.weight,\n",
    "               segment.distance,\n",
    "               segment.average_grade,\n",
    "               segment.maximum_grade,\n",
    "               segment.total_elevation_gain,\n",
    "               effort.average_watts,\n",
    "               hourly.Variables(0).Values(effort.start_date_local.hour),\n",
    "               hourly.Variables(1).Values(effort.start_date_local.hour),\n",
    "               hourly.Variables(2).Values(effort.start_date_local.hour),\n",
    "               effort.moving_time])\n",
    "effort_data_np"
   ]
  },
  {
   "cell_type": "code",
   "execution_count": 114,
   "id": "24a5bd43",
   "metadata": {},
   "outputs": [],
   "source": [
    "effort_columns = ['athlete_weight',\n",
    " 'distance',\n",
    " 'avg_grade',\n",
    " 'max_grade',\n",
    " 'elevation_gain',\n",
    " 'avg_power',\n",
    " 'temperature',\n",
    " 'wind_speed',\n",
    " 'wind_direction',\n",
    " 'time']"
   ]
  },
  {
   "cell_type": "code",
   "execution_count": 116,
   "id": "44c28d73",
   "metadata": {},
   "outputs": [
    {
     "data": {
      "text/plain": [
       "athlete_weight      77.300000\n",
       "distance          3792.460000\n",
       "avg_grade            5.600000\n",
       "max_grade           26.700000\n",
       "elevation_gain     274.899000\n",
       "avg_power          281.300000\n",
       "temperature         15.097000\n",
       "wind_speed          27.475807\n",
       "wind_direction     275.262299\n",
       "time               759.000000\n",
       "dtype: float64"
      ]
     },
     "execution_count": 116,
     "metadata": {},
     "output_type": "execute_result"
    }
   ],
   "source": [
    "effort_series = pd.Series(effort_data, index=effort_columns)\n",
    "effort_series"
   ]
  },
  {
   "cell_type": "code",
   "execution_count": 131,
   "id": "c7911220",
   "metadata": {},
   "outputs": [
    {
     "data": {
      "text/plain": [
       "athlete_weight       int8\n",
       "distance            int32\n",
       "avg_grade         float16\n",
       "max_grade         float16\n",
       "elevation_gain      int16\n",
       "avg_power           int16\n",
       "temperature          int8\n",
       "wind_speed           int8\n",
       "wind_direction      int16\n",
       "time                int16\n",
       "dtype: object"
      ]
     },
     "execution_count": 131,
     "metadata": {},
     "output_type": "execute_result"
    }
   ],
   "source": [
    "effort_df = pd.DataFrame(effort_dict)\n",
    "effort_df = effort_df.astype(effort_dtypes)\n",
    "effort_df.dtypes"
   ]
  },
  {
   "cell_type": "code",
   "execution_count": 125,
   "id": "5f2974ae",
   "metadata": {},
   "outputs": [
    {
     "data": {
      "text/plain": [
       "dict_values([[77.3], [3792.46], [5.6], [26.7], [274.899], [281.3], [15.097000122070312], [27.475807189941406], [275.2622985839844], [759]])"
      ]
     },
     "execution_count": 125,
     "metadata": {},
     "output_type": "execute_result"
    }
   ],
   "source": [
    "effort_dict.values()"
   ]
  },
  {
   "cell_type": "code",
   "execution_count": 133,
   "id": "1e0ef65a",
   "metadata": {},
   "outputs": [
    {
     "name": "stderr",
     "output_type": "stream",
     "text": [
      "WARNING:py.warnings:/home/david_goag/.pyenv/versions/sspo_env/lib/python3.12/site-packages/pandas/io/formats/format.py:1458: RuntimeWarning: overflow encountered in cast\n",
      "  has_large_values = (abs_vals > 1e6).any()\n",
      "\n"
     ]
    },
    {
     "data": {
      "text/html": [
       "<div>\n",
       "<style scoped>\n",
       "    .dataframe tbody tr th:only-of-type {\n",
       "        vertical-align: middle;\n",
       "    }\n",
       "\n",
       "    .dataframe tbody tr th {\n",
       "        vertical-align: top;\n",
       "    }\n",
       "\n",
       "    .dataframe thead th {\n",
       "        text-align: right;\n",
       "    }\n",
       "</style>\n",
       "<table border=\"1\" class=\"dataframe\">\n",
       "  <thead>\n",
       "    <tr style=\"text-align: right;\">\n",
       "      <th></th>\n",
       "      <th>athlete_weight</th>\n",
       "      <th>distance</th>\n",
       "      <th>avg_grade</th>\n",
       "      <th>max_grade</th>\n",
       "      <th>elevation_gain</th>\n",
       "      <th>avg_power</th>\n",
       "      <th>temperature</th>\n",
       "      <th>wind_speed</th>\n",
       "      <th>wind_direction</th>\n",
       "      <th>time</th>\n",
       "    </tr>\n",
       "  </thead>\n",
       "  <tbody>\n",
       "    <tr>\n",
       "      <th>0</th>\n",
       "      <td>77</td>\n",
       "      <td>3792</td>\n",
       "      <td>5.601562</td>\n",
       "      <td>26.703125</td>\n",
       "      <td>274</td>\n",
       "      <td>281</td>\n",
       "      <td>15</td>\n",
       "      <td>27</td>\n",
       "      <td>275</td>\n",
       "      <td>759</td>\n",
       "    </tr>\n",
       "  </tbody>\n",
       "</table>\n",
       "</div>"
      ],
      "text/plain": [
       "   athlete_weight  distance  avg_grade  max_grade  elevation_gain  avg_power  \\\n",
       "0              77      3792   5.601562  26.703125             274        281   \n",
       "\n",
       "   temperature  wind_speed  wind_direction  time  \n",
       "0           15          27             275   759  "
      ]
     },
     "execution_count": 133,
     "metadata": {},
     "output_type": "execute_result"
    }
   ],
   "source": [
    "effort_df"
   ]
  },
  {
   "cell_type": "code",
   "execution_count": null,
   "id": "161e4be7",
   "metadata": {},
   "outputs": [],
   "source": []
  }
 ],
 "metadata": {
  "kernelspec": {
   "display_name": "sspo_env",
   "language": "python",
   "name": "python3"
  },
  "language_info": {
   "codemirror_mode": {
    "name": "ipython",
    "version": 3
   },
   "file_extension": ".py",
   "mimetype": "text/x-python",
   "name": "python",
   "nbconvert_exporter": "python",
   "pygments_lexer": "ipython3",
   "version": "3.12.9"
  }
 },
 "nbformat": 4,
 "nbformat_minor": 5
}
